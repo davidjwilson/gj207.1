{
 "cells": [
  {
   "cell_type": "markdown",
   "id": "f8e29d44-1999-46fe-a3d3-e7641da10828",
   "metadata": {},
   "source": [
    "Learning to use xspec to fit the xrt data"
   ]
  },
  {
   "cell_type": "code",
   "execution_count": 2,
   "id": "2b17e9bf-243a-4c26-9ebf-84d10520b814",
   "metadata": {},
   "outputs": [],
   "source": [
    "import numpy as np\n",
    "import matplotlib.pyplot as plt\n",
    "import astropy.io.fits as fits\n",
    "import os\n",
    "import glob\n",
    "from astropy.table import Table\n",
    "from astropy.io import ascii\n",
    "import astropy.units as u\n",
    "import astropy.constants as const\n",
    "\n",
    "\n",
    "#matplotlib set up\n",
    "%matplotlib inline\n",
    "from matplotlib import rcParams\n",
    "rcParams[\"figure.figsize\"] = (14, 5)\n",
    "rcParams[\"font.size\"] = 20\n"
   ]
  },
  {
   "cell_type": "code",
   "execution_count": 1,
   "id": "539d67b1-7368-46ec-b97e-dbb8aa34dbd1",
   "metadata": {},
   "outputs": [],
   "source": [
    "path = '/media/david/1tb_storage1/emergency_data/carmenes_binary/swift/xrt/spectrum/'"
   ]
  },
  {
   "cell_type": "code",
   "execution_count": 3,
   "id": "c5f4d17c-61e0-4d55-85eb-1b88f30d3803",
   "metadata": {},
   "outputs": [
    {
     "ename": "ModuleNotFoundError",
     "evalue": "No module named 'xspec'",
     "output_type": "error",
     "traceback": [
      "\u001b[0;31m---------------------------------------------------------------------------\u001b[0m",
      "\u001b[0;31mModuleNotFoundError\u001b[0m                       Traceback (most recent call last)",
      "\u001b[0;32m<ipython-input-3-7b9dea8186ae>\u001b[0m in \u001b[0;36m<module>\u001b[0;34m()\u001b[0m\n\u001b[0;32m----> 1\u001b[0;31m \u001b[0;32mimport\u001b[0m \u001b[0mxspec\u001b[0m\u001b[0;34m\u001b[0m\u001b[0;34m\u001b[0m\u001b[0m\n\u001b[0m",
      "\u001b[0;31mModuleNotFoundError\u001b[0m: No module named 'xspec'"
     ]
    }
   ],
   "source": [
    "import xspec"
   ]
  },
  {
   "cell_type": "code",
   "execution_count": null,
   "id": "35f8b66c-e458-473f-9062-9994f6936832",
   "metadata": {},
   "outputs": [],
   "source": []
  }
 ],
 "metadata": {
  "kernelspec": {
   "display_name": "Python 3",
   "language": "python",
   "name": "python3"
  },
  "language_info": {
   "codemirror_mode": {
    "name": "ipython",
    "version": 3
   },
   "file_extension": ".py",
   "mimetype": "text/x-python",
   "name": "python",
   "nbconvert_exporter": "python",
   "pygments_lexer": "ipython3",
   "version": "3.6.13"
  }
 },
 "nbformat": 4,
 "nbformat_minor": 5
}
