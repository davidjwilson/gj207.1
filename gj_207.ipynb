{
 "cells": [
  {
   "cell_type": "markdown",
   "id": "8b4bff10",
   "metadata": {},
   "source": [
    "Exploring the observability of gj_207.1, a wd+dm binary from https://arxiv.org/pdf/2105.14770.pdf"
   ]
  },
  {
   "cell_type": "code",
   "execution_count": 2,
   "id": "04b3d079",
   "metadata": {},
   "outputs": [],
   "source": [
    "import numpy as np\n",
    "import matplotlib.pyplot as plt\n",
    "import astropy.io.fits as fits\n",
    "import os\n",
    "import glob\n",
    "from astropy.table import Table\n",
    "from astropy.io import ascii\n",
    "import astropy.units as u\n",
    "import astropy.constants as const\n",
    "from astropy.convolution import convolve, Box1DKernel\n",
    "from scipy.interpolate import interp1d\n",
    "from matplotlib.gridspec import GridSpec\n",
    "\n",
    "\n",
    "\n",
    "#matplotlib set up\n",
    "%matplotlib inline\n",
    "from matplotlib import rcParams\n",
    "rcParams[\"figure.figsize\"] = (14, 5)\n",
    "rcParams[\"font.size\"] = 20"
   ]
  },
  {
   "cell_type": "code",
   "execution_count": 4,
   "id": "0ccacf8b",
   "metadata": {},
   "outputs": [],
   "source": [
    "path = '/media/david/1tb_storage1/emergency_data/carmenes_binary/'"
   ]
  },
  {
   "cell_type": "code",
   "execution_count": 3,
   "id": "058f770f",
   "metadata": {},
   "outputs": [
    {
     "data": {
      "text/plain": [
       "['da08000_800.dk.dat.txt',\n",
       " 'da36000_800.dk.dat.txt',\n",
       " 'downloadScript_a32d7d73-ab0c-46a0-a717-34865a6dfd77.sh',\n",
       " 'gj176',\n",
       " 'models_1628548460',\n",
       " 'models_1628872352',\n",
       " 'models_1628872352.tgz',\n",
       " 'readme_a32d7d73-ab0c-46a0-a717-34865a6dfd77.txt',\n",
       " 'swift',\n",
       " 'test.tgz',\n",
       " 'xshooter']"
      ]
     },
     "execution_count": 3,
     "metadata": {},
     "output_type": "execute_result"
    }
   ],
   "source": [
    "os.listdir(path)"
   ]
  },
  {
   "cell_type": "code",
   "execution_count": 4,
   "id": "999e3567",
   "metadata": {},
   "outputs": [
    {
     "ename": "OSError",
     "evalue": "/media/david/1tb_storage1/emergency_data/carmenes_binary//models_1628544736/koester2/da08000_800.dk.dat.txt not found.",
     "output_type": "error",
     "traceback": [
      "\u001b[0;31m---------------------------------------------------------------------------\u001b[0m",
      "\u001b[0;31mOSError\u001b[0m                                   Traceback (most recent call last)",
      "\u001b[0;32m<ipython-input-4-9554d1f70ff0>\u001b[0m in \u001b[0;36m<module>\u001b[0;34m()\u001b[0m\n\u001b[0;32m----> 1\u001b[0;31m \u001b[0mmw\u001b[0m\u001b[0;34m,\u001b[0m \u001b[0mmf\u001b[0m \u001b[0;34m=\u001b[0m \u001b[0mnp\u001b[0m\u001b[0;34m.\u001b[0m\u001b[0mloadtxt\u001b[0m\u001b[0;34m(\u001b[0m\u001b[0;34m'{}/models_1628544736/koester2/da08000_800.dk.dat.txt'\u001b[0m\u001b[0;34m.\u001b[0m\u001b[0mformat\u001b[0m\u001b[0;34m(\u001b[0m\u001b[0mpath\u001b[0m\u001b[0;34m)\u001b[0m\u001b[0;34m,\u001b[0m \u001b[0munpack\u001b[0m\u001b[0;34m=\u001b[0m\u001b[0;32mTrue\u001b[0m\u001b[0;34m)\u001b[0m\u001b[0;34m\u001b[0m\u001b[0;34m\u001b[0m\u001b[0m\n\u001b[0m",
      "\u001b[0;32m/home/david/anaconda3/envs/astroconda/lib/python3.6/site-packages/numpy/lib/npyio.py\u001b[0m in \u001b[0;36mloadtxt\u001b[0;34m(fname, dtype, comments, delimiter, converters, skiprows, usecols, unpack, ndmin, encoding, max_rows)\u001b[0m\n\u001b[1;32m    979\u001b[0m             \u001b[0mfname\u001b[0m \u001b[0;34m=\u001b[0m \u001b[0mos_fspath\u001b[0m\u001b[0;34m(\u001b[0m\u001b[0mfname\u001b[0m\u001b[0;34m)\u001b[0m\u001b[0;34m\u001b[0m\u001b[0;34m\u001b[0m\u001b[0m\n\u001b[1;32m    980\u001b[0m         \u001b[0;32mif\u001b[0m \u001b[0m_is_string_like\u001b[0m\u001b[0;34m(\u001b[0m\u001b[0mfname\u001b[0m\u001b[0;34m)\u001b[0m\u001b[0;34m:\u001b[0m\u001b[0;34m\u001b[0m\u001b[0;34m\u001b[0m\u001b[0m\n\u001b[0;32m--> 981\u001b[0;31m             \u001b[0mfh\u001b[0m \u001b[0;34m=\u001b[0m \u001b[0mnp\u001b[0m\u001b[0;34m.\u001b[0m\u001b[0mlib\u001b[0m\u001b[0;34m.\u001b[0m\u001b[0m_datasource\u001b[0m\u001b[0;34m.\u001b[0m\u001b[0mopen\u001b[0m\u001b[0;34m(\u001b[0m\u001b[0mfname\u001b[0m\u001b[0;34m,\u001b[0m \u001b[0;34m'rt'\u001b[0m\u001b[0;34m,\u001b[0m \u001b[0mencoding\u001b[0m\u001b[0;34m=\u001b[0m\u001b[0mencoding\u001b[0m\u001b[0;34m)\u001b[0m\u001b[0;34m\u001b[0m\u001b[0;34m\u001b[0m\u001b[0m\n\u001b[0m\u001b[1;32m    982\u001b[0m             \u001b[0mfencoding\u001b[0m \u001b[0;34m=\u001b[0m \u001b[0mgetattr\u001b[0m\u001b[0;34m(\u001b[0m\u001b[0mfh\u001b[0m\u001b[0;34m,\u001b[0m \u001b[0;34m'encoding'\u001b[0m\u001b[0;34m,\u001b[0m \u001b[0;34m'latin1'\u001b[0m\u001b[0;34m)\u001b[0m\u001b[0;34m\u001b[0m\u001b[0;34m\u001b[0m\u001b[0m\n\u001b[1;32m    983\u001b[0m             \u001b[0mfh\u001b[0m \u001b[0;34m=\u001b[0m \u001b[0miter\u001b[0m\u001b[0;34m(\u001b[0m\u001b[0mfh\u001b[0m\u001b[0;34m)\u001b[0m\u001b[0;34m\u001b[0m\u001b[0;34m\u001b[0m\u001b[0m\n",
      "\u001b[0;32m/home/david/anaconda3/envs/astroconda/lib/python3.6/site-packages/numpy/lib/_datasource.py\u001b[0m in \u001b[0;36mopen\u001b[0;34m(path, mode, destpath, encoding, newline)\u001b[0m\n\u001b[1;32m    267\u001b[0m \u001b[0;34m\u001b[0m\u001b[0m\n\u001b[1;32m    268\u001b[0m     \u001b[0mds\u001b[0m \u001b[0;34m=\u001b[0m \u001b[0mDataSource\u001b[0m\u001b[0;34m(\u001b[0m\u001b[0mdestpath\u001b[0m\u001b[0;34m)\u001b[0m\u001b[0;34m\u001b[0m\u001b[0;34m\u001b[0m\u001b[0m\n\u001b[0;32m--> 269\u001b[0;31m     \u001b[0;32mreturn\u001b[0m \u001b[0mds\u001b[0m\u001b[0;34m.\u001b[0m\u001b[0mopen\u001b[0m\u001b[0;34m(\u001b[0m\u001b[0mpath\u001b[0m\u001b[0;34m,\u001b[0m \u001b[0mmode\u001b[0m\u001b[0;34m,\u001b[0m \u001b[0mencoding\u001b[0m\u001b[0;34m=\u001b[0m\u001b[0mencoding\u001b[0m\u001b[0;34m,\u001b[0m \u001b[0mnewline\u001b[0m\u001b[0;34m=\u001b[0m\u001b[0mnewline\u001b[0m\u001b[0;34m)\u001b[0m\u001b[0;34m\u001b[0m\u001b[0;34m\u001b[0m\u001b[0m\n\u001b[0m\u001b[1;32m    270\u001b[0m \u001b[0;34m\u001b[0m\u001b[0m\n\u001b[1;32m    271\u001b[0m \u001b[0;34m\u001b[0m\u001b[0m\n",
      "\u001b[0;32m/home/david/anaconda3/envs/astroconda/lib/python3.6/site-packages/numpy/lib/_datasource.py\u001b[0m in \u001b[0;36mopen\u001b[0;34m(self, path, mode, encoding, newline)\u001b[0m\n\u001b[1;32m    621\u001b[0m                                       encoding=encoding, newline=newline)\n\u001b[1;32m    622\u001b[0m         \u001b[0;32melse\u001b[0m\u001b[0;34m:\u001b[0m\u001b[0;34m\u001b[0m\u001b[0;34m\u001b[0m\u001b[0m\n\u001b[0;32m--> 623\u001b[0;31m             \u001b[0;32mraise\u001b[0m \u001b[0mIOError\u001b[0m\u001b[0;34m(\u001b[0m\u001b[0;34m\"%s not found.\"\u001b[0m \u001b[0;34m%\u001b[0m \u001b[0mpath\u001b[0m\u001b[0;34m)\u001b[0m\u001b[0;34m\u001b[0m\u001b[0;34m\u001b[0m\u001b[0m\n\u001b[0m\u001b[1;32m    624\u001b[0m \u001b[0;34m\u001b[0m\u001b[0m\n\u001b[1;32m    625\u001b[0m \u001b[0;34m\u001b[0m\u001b[0m\n",
      "\u001b[0;31mOSError\u001b[0m: /media/david/1tb_storage1/emergency_data/carmenes_binary//models_1628544736/koester2/da08000_800.dk.dat.txt not found."
     ]
    }
   ],
   "source": [
    "mw, mf = np.loadtxt('{}/models_1628544736/koester2/da08000_800.dk.dat.txt'.format(path), unpack=True)"
   ]
  },
  {
   "cell_type": "code",
   "execution_count": null,
   "id": "6ba81b07",
   "metadata": {},
   "outputs": [],
   "source": [
    "data = fits.getdata('{}/gj176/hlsp_muscles_multi_multi_gj176_broadband_v22_adapt-const-res-sed.fits'.format(path))"
   ]
  },
  {
   "cell_type": "code",
   "execution_count": null,
   "id": "b0a5bc5a",
   "metadata": {},
   "outputs": [],
   "source": [
    "gw, gf = data['WAVELENGTH'], data['FLUX']"
   ]
  },
  {
   "cell_type": "code",
   "execution_count": null,
   "id": "2247e020",
   "metadata": {},
   "outputs": [],
   "source": [
    "d_gj176 = 1/(105.42748417135273e-3)*u.pc\n",
    "d_gj207 = 1/(63.35970667464679e-3)*u.pc\n",
    "rwd = 0.0128*u.Rsun\n",
    "\n",
    "gj_scale = (d_gj176/d_gj207)**2\n",
    "wd_scale =rwd.to(u.m)/d_gj207.to(u.m))**2 #\n",
    "print(gj_scale, wd_scale)"
   ]
  },
  {
   "cell_type": "code",
   "execution_count": null,
   "id": "b3b8de44",
   "metadata": {},
   "outputs": [],
   "source": [
    "# plt.plot(gw, gf)\n",
    "plt.plot(gw, gf*gj_scale)\n",
    "plt.plot(mw, mf*wd_scale)\n",
    "plt.xlim(1000, 3500)\n",
    "plt.yscale('log')"
   ]
  },
  {
   "cell_type": "code",
   "execution_count": null,
   "id": "c82692af",
   "metadata": {},
   "outputs": [],
   "source": [
    "xsfiles = glob.glob('{}xshooter/*'.format(path))\n",
    "# fits.getheader(xsfiles[0])\n",
    "bfiles = []\n",
    "for x in xsfiles:\n",
    "    if fits.getheader(x)['DISPELEM'] == 'UVB':\n",
    "        bfiles.append(x)\n",
    "bfiles"
   ]
  },
  {
   "cell_type": "code",
   "execution_count": null,
   "id": "806ef99e",
   "metadata": {},
   "outputs": [],
   "source": [
    "# for x in bfiles:\n",
    "#     data = fits.getdata(x, 1)[0]\n",
    "#     plt.plot(data['WAVE'], data['FLUX'])\n",
    "    \n",
    "    \n",
    "d1 = fits.getdata(bfiles[1], 0)[0]\n",
    "xw, xf, dq = d1['WAVE'], d1['FLUX'], d1['QUAL']\n",
    "mask = (dq ==0) & (xw > 310)\n",
    "xw, xf = xw[mask]*10, xf[mask]\n",
    "# xw, xf = xw[dq==0], xf[dq==0]\n",
    "plt.plot(xw, xf)"
   ]
  },
  {
   "cell_type": "code",
   "execution_count": null,
   "id": "a0315c0c",
   "metadata": {},
   "outputs": [],
   "source": [
    "# plt.plot(gw, gf)\n",
    "plt.plot(gw, gf*gj_scale)\n",
    "plt.plot(mw, mf*wd_scale)\n",
    "plt.plot(xw, xf)\n",
    "plt.xlim(1000, 6000)\n",
    "plt.yscale('log')"
   ]
  },
  {
   "cell_type": "markdown",
   "id": "0c1373a0",
   "metadata": {},
   "source": [
    "checking the scaling on the svo files...\n"
   ]
  },
  {
   "cell_type": "code",
   "execution_count": null,
   "id": "ca93dd38",
   "metadata": {},
   "outputs": [],
   "source": [
    "# w1, f1 = np.loadtxt('{}/models_1622585191/koester2/da25000_750.dk.dat.txt'.format(path), unpack=True)\n",
    "# w2, f2 = np.loadtxt('../pceb/cc_cet/CC-Cet.dk', unpack=True, skiprows=50)\n",
    "\n",
    "# plt.plot(w1, f1)\n",
    "# plt.plot(w2, f2*1e-8*np.pi)\n",
    "\n",
    "# plt.yscale('log')\n",
    "# plt.xscale('log')"
   ]
  },
  {
   "cell_type": "markdown",
   "id": "4e0ca953",
   "metadata": {},
   "source": [
    "Make a model pceb and put it into etc?"
   ]
  },
  {
   "cell_type": "code",
   "execution_count": null,
   "id": "70ff67c3",
   "metadata": {},
   "outputs": [],
   "source": [
    "mw1, mf1 = mw[(mw > 1000) & (mw < 7000)], mf[(mw > 1000) & (mw < 7000)]*wd_scale\n",
    "gw1, gf1 = gw[(gw > 1000) & (gw < 7000)], gf[(gw > 1000) & (gw < 7000)]*gj_scale\n",
    "plt.plot(gw1, gf1)\n",
    "plt.plot(mw1, mf1)\n",
    "pw = np.arange(1000, 7001, 1)\n",
    "pf = interp1d(mw1, mf1, fill_value = 'extrapolate')(pw) +  interp1d(gw1, gf1, fill_value = 'extrapolate')(pw)\n",
    "\n",
    "plt.plot(pw, pf)"
   ]
  },
  {
   "cell_type": "markdown",
   "id": "63ba65c2",
   "metadata": {},
   "source": [
    "WD flux still seems too high-  have emailed SVO - maybe it's not 4pi? Test with ETC... no-go for FUV, could be a 1-orbit quick job for NUV - Swift TOO?"
   ]
  },
  {
   "cell_type": "code",
   "execution_count": null,
   "id": "f65ebdc0",
   "metadata": {},
   "outputs": [],
   "source": [
    "savdat = Table([pw, pf], names=['#WAVELENGTH', 'FLUX'])\n",
    "ascii.write(savdat, 'gj207_1_wdmodel.dat', format='basic')"
   ]
  },
  {
   "cell_type": "code",
   "execution_count": null,
   "id": "bf1d325c",
   "metadata": {},
   "outputs": [],
   "source": [
    "filters = glob.glob('/home/david/work/filters/uvot/*.dat')\n",
    "filters"
   ]
  },
  {
   "cell_type": "code",
   "execution_count": null,
   "id": "8f12287b",
   "metadata": {},
   "outputs": [],
   "source": [
    "# for band in [filters[0], filters[2], filters[3]]:\n",
    "#     print(band)\n",
    "#     bw, bf = np.loadtxt(band, unpack=True)\n",
    "#     fno = interp1d(gw1, gf1, fill_value = 'extrapolate')(bw)\n",
    "#     fyes = interp1d(pw, pf, fill_value = 'extrapolate')(bw)\n",
    "#     bno = np.trapz((fno*bf), bw)/np.trapz(bf, bw)    \n",
    "#     byes = np.trapz((fyes*bf), bw)/np.trapz(bf, bw)\n",
    "#     print('without wd', bno)    \n",
    "#     print('with wd', byes)\n",
    "#     print('ratio', byes/bno)\n",
    "#     plt.plot(bw, fno)\n",
    "#     plt.plot(bw, fyes)\n",
    "#     plt.show()"
   ]
  },
  {
   "cell_type": "markdown",
   "id": "3ecf6df3",
   "metadata": {},
   "source": [
    "Should be good for a ~500s exposure in uvw2."
   ]
  },
  {
   "cell_type": "code",
   "execution_count": null,
   "id": "b5c0b998",
   "metadata": {},
   "outputs": [],
   "source": [
    "#galex nuv\n",
    "wnuv = 2310*u.AA\n",
    "fnuv = 214.e-6*u.Jy\n",
    "fnuv = fnuv.to(u.erg/u.s/u.cm**2/u.AA, equivalencies=u.spectral_density(wnuv))\n",
    "print(fnuv)"
   ]
  },
  {
   "cell_type": "code",
   "execution_count": null,
   "id": "a95f0c3f",
   "metadata": {},
   "outputs": [],
   "source": [
    "bpw, bpf = np.loadtxt('../filters/galex/GALEX_GALEX.NUV.dat', unpack=True)\n",
    "plt.plot(bpw, bpf)"
   ]
  },
  {
   "cell_type": "code",
   "execution_count": null,
   "id": "582cc0c5",
   "metadata": {},
   "outputs": [],
   "source": [
    "# plt.figure(figsize=(10, 6))\n",
    "# plt.plot(gw1[(gw1 < 3240) | (gw1 > 3250)] , gf1[(gw1 < 3240) | (gw1 > 3250)], label = 'No White Dwarf')\n",
    "# # plt.plot(mw1, mf1)\n",
    "# plt.plot(pw, pf, label='With 8000\\,K White Dwarf')\n",
    "# plt.errorbar(wnuv.value, fnuv.value, yerr=0.1*fnuv.value, marker='o', ls='none', label='GALEX NUV')\n",
    "# plt.yscale('log')\n",
    "# plt.xlabel('Wavelength (\\AA)')\n",
    "# plt.ylabel('Flux (erg s$^{-1}$ cm$^{-2}$ \\AA$^{-1}$)')\n",
    "# plt.legend(loc=4, frameon=True)\n",
    "# plt.xlim(1501, 3999)\n",
    "# plt.ylim(1.1e-17, 5e-14)\n",
    "# # plt.plot(bpw, bpf*1e-13, ls = '--')\n",
    "# plt.fill_betweenx([1e-19, 1e-12], bpw[0], bpw[-1], alpha =0.1, zorder=-100, color='k')\n",
    "# # plt.plot(xw, xf)\n",
    "# plt.tight_layout()\n",
    "# plt.savefig('plots/gj207_1_model.png', dpi=150)\n",
    "# plt.savefig('plots/gj207_1_model.pdf', dpi=150)"
   ]
  },
  {
   "cell_type": "code",
   "execution_count": null,
   "id": "488c62a1",
   "metadata": {},
   "outputs": [],
   "source": [
    "def make_phot(bp_w, bp_cc, w, f):\n",
    "    mask = (w >= bp_w[0]) & (w <= bp_w[-1])\n",
    "    w, f = w[mask], f[mask]\n",
    "    bb_cci = interp1d(bp_w, bp_cc, fill_value='extrapolate')(w)\n",
    "    return np.trapz(f*bb_cci, w)/np.trapz(bb_cci, w)\n",
    "    \n",
    "fig = plt.figure(figsize=(14, 6))\n",
    "gs = GridSpec(1,6, figure=fig)\n",
    "plt.subplot(gs[0:4])\n",
    "plt.plot(gw1, gf1, label = 'No WD')\n",
    "# plt.plot(mw1, mf1)\n",
    "plt.plot(pw, pf, label='With 8000\\,K WD')\n",
    "plt.errorbar(wnuv.value, fnuv.value, yerr=0.1*fnuv.value, marker='o', ls='none', label='GALEX')\n",
    "plt.yscale('log')\n",
    "plt.xlabel('Wavelength (\\AA)')\n",
    "plt.ylabel('Flux (erg s$^{-1}$ cm$^{-2}$ \\AA$^{-1}$)')\n",
    "plt.legend(loc=4)\n",
    "plt.xlim(1230, 3999)\n",
    "plt.ylim(1.1e-19)\n",
    "plt.subplot(gs[4:])\n",
    "\n",
    "nwd_phot = make_phot(bpw, bpf,gw1, gf1)\n",
    "wd_phot = make_phot(bpw, bpf,pw, pf)\n",
    "plt.scatter((1, 2), [nwd_phot/fnuv.value, wd_phot/fnuv.value], c=('C0', 'C1'))\n",
    "plt.xlim(0, 3)\n",
    "plt.ylim(0.01, 1.2)\n",
    "# plt.axhline(fnuv.value, ls='--')\n",
    "\n",
    "plt.tight_layout()\n",
    "# plt.savefig('plots/gj207_1_model.png', dpi=150)\n",
    "# plt.savefig('plots/gj207_1_model.pdf', dpi=150)"
   ]
  },
  {
   "cell_type": "markdown",
   "id": "f5dfbc36",
   "metadata": {},
   "source": [
    "Adding galex data from BS UMa"
   ]
  },
  {
   "cell_type": "code",
   "execution_count": null,
   "id": "1467852d",
   "metadata": {},
   "outputs": [],
   "source": [
    "# fnuv_bsuma = 84.8e-6*u.Jy\n",
    "# fnuv_bsuma = fnuv_bsuma.to(u.erg/u.s/u.cm**2/u.AA, equivalencies=u.spectral_density(wnuv))\n",
    "# d_bsuma = (1/7.623047936898915e-3)*u.pc\n",
    "\n",
    "# bsscale = (d_bsuma/d_gj207)**2\n",
    "\n",
    "# print(fnuv_bsuma)\n",
    "# print(fnuv_bsuma*bsscale)"
   ]
  },
  {
   "cell_type": "code",
   "execution_count": null,
   "id": "d71655d7",
   "metadata": {},
   "outputs": [],
   "source": [
    "# plt.figure(figsize=(10, 6))\n",
    "# plt.plot(gw1[(gw1 < 3240) | (gw1 > 3250)] , gf1[(gw1 < 3240) | (gw1 > 3250)], label = 'No White Dwarf')\n",
    "# # plt.plot(mw1, mf1)\n",
    "# plt.plot(pw, pf, label='With 8000\\,K White Dwarf')\n",
    "# plt.errorbar(wnuv.value, fnuv.value, yerr=0.1*fnuv.value, marker='o', ls='none', label='GALEX NUV')\n",
    "# plt.errorbar(wnuv.value, (fnuv_bsuma*bsscale).value/2, yerr=0.2*(fnuv_bsuma*bsscale).value/2, marker='o', ls='none', label='scaled BS UMa NUV/2')\n",
    "# plt.yscale('log')\n",
    "# plt.xlabel('Wavelength (\\AA)')\n",
    "# plt.ylabel('Flux (erg s$^{-1}$ cm$^{-2}$ \\AA$^{-1}$)')\n",
    "# plt.legend(loc=4, frameon=True)\n",
    "# plt.xlim(1501, 3999)\n",
    "# plt.ylim(1.1e-17, 5e-14)\n",
    "# # plt.plot(bpw, bpf*1e-13, ls = '--')\n",
    "# plt.fill_betweenx([1e-19, 1e-12], bpw[0], bpw[-1], alpha =0.1, zorder=-100, color='k')\n",
    "# # plt.plot(xw, xf)\n",
    "# plt.tight_layout()\n",
    "# plt.savefig('plots/gj207_1_bsuma.png', dpi=150)\n",
    "# plt.savefig('plots/gj207_1_bsuma.pdf', dpi=150)"
   ]
  },
  {
   "cell_type": "code",
   "execution_count": null,
   "id": "85068c39",
   "metadata": {},
   "outputs": [],
   "source": [
    "#swift filters\n",
    "swiftpath = '/home/david/work/filters/uvot/'\n",
    "\n",
    "band_paths = glob.glob('{}Swift_UVOT.*.dat'.format(swiftpath))\n",
    "print(band_paths)\n",
    "band_paths.sort()\n",
    "\n",
    "for band in band_paths:\n",
    "    bws, bps = np.loadtxt(band, unpack=True)\n",
    "    label = os.path.split(band)[1][11:-4]\n",
    "    plt.plot(bws, bps, label=label)\n",
    "plt.legend()\n",
    "\n",
    "uvw2path = '/home/david/work/filters/uvot/Swift_UVOT.UVW2.dat'\n",
    "bws, bps = np.loadtxt(uvw2path, unpack=True)\n",
    "\n",
    "upath = '/home/david/work/filters/uvot/Swift_UVOT.U.dat'\n",
    "ubw, ubp = np.loadtxt(upath, unpack=True)"
   ]
  },
  {
   "cell_type": "code",
   "execution_count": null,
   "id": "f7ea7dd8",
   "metadata": {},
   "outputs": [],
   "source": [
    "plt.figure(figsize=(10, 6))\n",
    "plt.plot(gw1[(gw1 < 3240) | (gw1 > 3250)] , gf1[(gw1 < 3240) | (gw1 > 3250)], label = 'No White Dwarf')\n",
    "# plt.plot(mw1, mf1)\n",
    "plt.plot(pw, pf, label='With 8000\\,K White Dwarf')\n",
    "plt.errorbar(wnuv.value, fnuv.value, yerr=0.1*fnuv.value, marker='o', ls='none', label='GALEX NUV')\n",
    "plt.yscale('log')\n",
    "plt.xlabel('Wavelength (\\AA)')\n",
    "plt.ylabel('Flux (erg s$^{-1}$ cm$^{-2}$ \\AA$^{-1}$)')\n",
    "plt.legend(loc=4, frameon=True)\n",
    "plt.xlim(1501, 3999)\n",
    "plt.ylim(1.1e-17, 5e-14)\n",
    "plt.plot(bws, bps*1e-16)\n",
    "# plt.plot(bpw, bpf*1e-13, ls = '--')\n",
    "plt.fill_betweenx([1e-19, 1e-12], bpw[0], bpw[-1], alpha =0.1, zorder=-100, color='k')\n",
    "# plt.plot(xw, xf)\n",
    "plt.tight_layout()\n",
    "# plt.savefig('plots/gj207_1_bsuma.png', dpi=150)\n",
    "# plt.savefig('plots/gj207_1_bsuma.pdf', dpi=150)"
   ]
  },
  {
   "cell_type": "markdown",
   "id": "f62bf97b-38ce-4190-a1e0-504f6fb90d60",
   "metadata": {},
   "source": [
    "Yay we got Swift time!"
   ]
  },
  {
   "cell_type": "code",
   "execution_count": 3,
   "id": "2756c23d-af92-47bb-9774-c6c8ab0f2333",
   "metadata": {},
   "outputs": [
    {
     "ename": "NameError",
     "evalue": "name 'path' is not defined",
     "output_type": "error",
     "traceback": [
      "\u001b[0;31m---------------------------------------------------------------------------\u001b[0m",
      "\u001b[0;31mNameError\u001b[0m                                 Traceback (most recent call last)",
      "\u001b[0;32m<ipython-input-3-6ffb6f3c1960>\u001b[0m in \u001b[0;36m<module>\u001b[0;34m()\u001b[0m\n\u001b[1;32m      1\u001b[0m \u001b[0;31m#10s\u001b[0m\u001b[0;34m\u001b[0m\u001b[0;34m\u001b[0m\u001b[0;34m\u001b[0m\u001b[0m\n\u001b[0;32m----> 2\u001b[0;31m \u001b[0mspath\u001b[0m \u001b[0;34m=\u001b[0m \u001b[0;34m'{}swift/working/gj207-1_uvw2_10slc.fits'\u001b[0m\u001b[0;34m.\u001b[0m\u001b[0mformat\u001b[0m\u001b[0;34m(\u001b[0m\u001b[0mpath\u001b[0m\u001b[0;34m)\u001b[0m\u001b[0;34m\u001b[0m\u001b[0;34m\u001b[0m\u001b[0m\n\u001b[0m\u001b[1;32m      3\u001b[0m \u001b[0mdata\u001b[0m \u001b[0;34m=\u001b[0m \u001b[0mfits\u001b[0m\u001b[0;34m.\u001b[0m\u001b[0mgetdata\u001b[0m\u001b[0;34m(\u001b[0m\u001b[0mspath\u001b[0m\u001b[0;34m,\u001b[0m \u001b[0;36m1\u001b[0m\u001b[0;34m)\u001b[0m\u001b[0;34m\u001b[0m\u001b[0;34m\u001b[0m\u001b[0m\n\u001b[1;32m      4\u001b[0m \u001b[0mt\u001b[0m\u001b[0;34m,\u001b[0m \u001b[0mf\u001b[0m\u001b[0;34m,\u001b[0m \u001b[0me\u001b[0m \u001b[0;34m=\u001b[0m \u001b[0mdata\u001b[0m\u001b[0;34m[\u001b[0m\u001b[0;34m'TIME'\u001b[0m\u001b[0;34m]\u001b[0m\u001b[0;34m,\u001b[0m \u001b[0mdata\u001b[0m\u001b[0;34m[\u001b[0m\u001b[0;34m'AB_FLUX_AA'\u001b[0m\u001b[0;34m]\u001b[0m\u001b[0;34m,\u001b[0m \u001b[0mdata\u001b[0m\u001b[0;34m[\u001b[0m\u001b[0;34m'AB_FLUX_AA_ERR'\u001b[0m\u001b[0;34m]\u001b[0m\u001b[0;34m\u001b[0m\u001b[0;34m\u001b[0m\u001b[0m\n\u001b[1;32m      5\u001b[0m \u001b[0mplt\u001b[0m\u001b[0;34m.\u001b[0m\u001b[0merrorbar\u001b[0m\u001b[0;34m(\u001b[0m\u001b[0mt\u001b[0m\u001b[0;34m,\u001b[0m \u001b[0mf\u001b[0m\u001b[0;34m,\u001b[0m \u001b[0myerr\u001b[0m\u001b[0;34m=\u001b[0m\u001b[0me\u001b[0m\u001b[0;34m,\u001b[0m \u001b[0mmarker\u001b[0m\u001b[0;34m=\u001b[0m\u001b[0;34m'o'\u001b[0m\u001b[0;34m,\u001b[0m \u001b[0mls\u001b[0m\u001b[0;34m=\u001b[0m\u001b[0;34m'none'\u001b[0m\u001b[0;34m)\u001b[0m\u001b[0;34m\u001b[0m\u001b[0;34m\u001b[0m\u001b[0m\n",
      "\u001b[0;31mNameError\u001b[0m: name 'path' is not defined"
     ]
    }
   ],
   "source": [
    "#10s\n",
    "# spath = '{}swift/working/gj207-1_uvw2_10slc.fits'.format(path)\n",
    "# data = fits.getdata(spath, 1)\n",
    "# t, f, e = data['TIME'], data['AB_FLUX_AA'], data['AB_FLUX_AA_ERR']\n",
    "# plt.errorbar(t, f, yerr=e, marker='o', ls='none')\n",
    "# plt.xlim(t[0]-100, t[0]+1000)\n",
    "# plt.show()\n",
    "# plt.errorbar(t, f, yerr=e, marker='o', ls='none')\n",
    "# plt.xlim(t[-1]-500, t[-1]+100)\n",
    "# plt.show()"
   ]
  },
  {
   "cell_type": "code",
   "execution_count": 31,
   "id": "2eba3b99-da5e-4d6f-96c7-99b3ffeb8d04",
   "metadata": {},
   "outputs": [
    {
     "data": {
      "image/png": "[encoded data removed]",
      "text/plain": [
       "<Figure size 576x288 with 1 Axes>"
      ]
     },
     "metadata": {
      "needs_background": "light"
     },
     "output_type": "display_data"
    }
   ],
   "source": [
    "#10s\n",
    "plt.figure(figsize=(8,4))\n",
    "spath = '{}swift/working/gj207-1_uvw2_10slc.fits'.format(path)\n",
    "data = fits.getdata(spath, 1)\n",
    "t, f, e = data['TIME'], data['AB_FLUX_AA'], data['AB_FLUX_AA_ERR']\n",
    "plt.errorbar(t[:60]-t[0], f[:60], yerr=e[:60], marker='o', ls='none')\n",
    "plt.xlim(-10, 610)\n",
    "plt.ylim(0.3e-15, 4.5e-15)\n",
    "# plt.xlim(t[0]-100, t[0]+1000)\n",
    "# plt.show()\n",
    "# plt.errorbar(t-t[0], f, yerr=e, marker='o', ls='none')\n",
    "plt.ylabel('$F_{\\mathrm{UVW2}}$ (erg s$^{-1}$ cm$^{-2}$)')\n",
    "plt.xlabel('Time (s)')\n",
    "# plt.xlim(t[-1]-500, t[-1]+100)\n",
    "# plt.show()\n",
    "plt.tight_layout()\n",
    "plt.savefig('plots/gj207-1_swift_lc.png', dpi=150, facecolor='w')\n",
    "plt.savefig('plots/gj207-1_swift_lc.pdf', dpi=150, facecolor='w')\n",
    "# data.dtype.names"
   ]
  },
  {
   "cell_type": "markdown",
   "id": "5ff5d67f-88cb-41b1-994a-a67f4b763fa6",
   "metadata": {},
   "source": [
    "Ok so 2nd orbit is junk, sum up the first orbit..."
   ]
  },
  {
   "cell_type": "code",
   "execution_count": 27,
   "id": "673432c4-8fe1-493b-bdb1-d7ebabfc1990",
   "metadata": {},
   "outputs": [
    {
     "name": "stdout",
     "output_type": "stream",
     "text": [
      "1.994796e-15 6.560634234084285e-17\n",
      "30.405536681526673\n"
     ]
    },
    {
     "data": {
      "image/png": "[encoded data removed]",
      "text/plain": [
       "<Figure size 1008x360 with 1 Axes>"
      ]
     },
     "metadata": {
      "needs_background": "light"
     },
     "output_type": "display_data"
    }
   ],
   "source": [
    "spath = '{}swift/working/gj207-1_uvw2_100slc.fits'.format(path)\n",
    "data = fits.getdata(spath, 1)\n",
    "t, f, e = data['TIME'], data['AB_FLUX_AA'], data['AB_FLUX_AA_ERR']\n",
    "\n",
    "plt.errorbar(t[:6], f[:6], yerr=e[:6], marker='o', ls='none')\n",
    "t1, f1, e1 = t[:6], f[:6], e[:6]\n",
    "swift_flux = np.average(f1, weights = 1/(e1**2))\n",
    "swift_error =  (1 / np.sum(1/(e1**2)))**0.5\n",
    "print(swift_flux, swift_error)\n",
    "swift_wave = 2054.61 #lambda_ref\n",
    "print(swift_flux/swift_error)"
   ]
  },
  {
   "cell_type": "code",
   "execution_count": 5,
   "id": "0fea3adf-83fb-4f83-a07b-124c8af04295",
   "metadata": {},
   "outputs": [
    {
     "ename": "NameError",
     "evalue": "name 'gw1' is not defined",
     "output_type": "error",
     "traceback": [
      "\u001b[0;31m---------------------------------------------------------------------------\u001b[0m",
      "\u001b[0;31mNameError\u001b[0m                                 Traceback (most recent call last)",
      "\u001b[0;32m<ipython-input-5-8cdc3989048c>\u001b[0m in \u001b[0;36m<module>\u001b[0;34m()\u001b[0m\n\u001b[1;32m      1\u001b[0m \u001b[0mplt\u001b[0m\u001b[0;34m.\u001b[0m\u001b[0mfigure\u001b[0m\u001b[0;34m(\u001b[0m\u001b[0mfigsize\u001b[0m\u001b[0;34m=\u001b[0m\u001b[0;34m(\u001b[0m\u001b[0;36m10\u001b[0m\u001b[0;34m,\u001b[0m \u001b[0;36m6\u001b[0m\u001b[0;34m)\u001b[0m\u001b[0;34m)\u001b[0m\u001b[0;34m\u001b[0m\u001b[0;34m\u001b[0m\u001b[0m\n\u001b[0;32m----> 2\u001b[0;31m \u001b[0mplt\u001b[0m\u001b[0;34m.\u001b[0m\u001b[0mplot\u001b[0m\u001b[0;34m(\u001b[0m\u001b[0mgw1\u001b[0m\u001b[0;34m[\u001b[0m\u001b[0;34m(\u001b[0m\u001b[0mgw1\u001b[0m \u001b[0;34m<\u001b[0m \u001b[0;36m3240\u001b[0m\u001b[0;34m)\u001b[0m \u001b[0;34m|\u001b[0m \u001b[0;34m(\u001b[0m\u001b[0mgw1\u001b[0m \u001b[0;34m>\u001b[0m \u001b[0;36m3250\u001b[0m\u001b[0;34m)\u001b[0m\u001b[0;34m]\u001b[0m \u001b[0;34m,\u001b[0m \u001b[0mgf1\u001b[0m\u001b[0;34m[\u001b[0m\u001b[0;34m(\u001b[0m\u001b[0mgw1\u001b[0m \u001b[0;34m<\u001b[0m \u001b[0;36m3240\u001b[0m\u001b[0;34m)\u001b[0m \u001b[0;34m|\u001b[0m \u001b[0;34m(\u001b[0m\u001b[0mgw1\u001b[0m \u001b[0;34m>\u001b[0m \u001b[0;36m3250\u001b[0m\u001b[0;34m)\u001b[0m\u001b[0;34m]\u001b[0m\u001b[0;34m,\u001b[0m \u001b[0mlabel\u001b[0m \u001b[0;34m=\u001b[0m \u001b[0;34m'No White Dwarf'\u001b[0m\u001b[0;34m)\u001b[0m\u001b[0;34m\u001b[0m\u001b[0;34m\u001b[0m\u001b[0m\n\u001b[0m\u001b[1;32m      3\u001b[0m \u001b[0;31m# plt.plot(mw1, mf1)\u001b[0m\u001b[0;34m\u001b[0m\u001b[0;34m\u001b[0m\u001b[0;34m\u001b[0m\u001b[0m\n\u001b[1;32m      4\u001b[0m \u001b[0mplt\u001b[0m\u001b[0;34m.\u001b[0m\u001b[0mplot\u001b[0m\u001b[0;34m(\u001b[0m\u001b[0mpw\u001b[0m\u001b[0;34m,\u001b[0m \u001b[0mpf\u001b[0m\u001b[0;34m,\u001b[0m \u001b[0mlabel\u001b[0m\u001b[0;34m=\u001b[0m\u001b[0;34m'With 8000\\,K White Dwarf'\u001b[0m\u001b[0;34m)\u001b[0m\u001b[0;34m\u001b[0m\u001b[0;34m\u001b[0m\u001b[0m\n\u001b[1;32m      5\u001b[0m \u001b[0mplt\u001b[0m\u001b[0;34m.\u001b[0m\u001b[0merrorbar\u001b[0m\u001b[0;34m(\u001b[0m\u001b[0mwnuv\u001b[0m\u001b[0;34m.\u001b[0m\u001b[0mvalue\u001b[0m\u001b[0;34m,\u001b[0m \u001b[0mfnuv\u001b[0m\u001b[0;34m.\u001b[0m\u001b[0mvalue\u001b[0m\u001b[0;34m,\u001b[0m \u001b[0myerr\u001b[0m\u001b[0;34m=\u001b[0m\u001b[0;36m0.1\u001b[0m\u001b[0;34m*\u001b[0m\u001b[0mfnuv\u001b[0m\u001b[0;34m.\u001b[0m\u001b[0mvalue\u001b[0m\u001b[0;34m,\u001b[0m \u001b[0mmarker\u001b[0m\u001b[0;34m=\u001b[0m\u001b[0;34m'o'\u001b[0m\u001b[0;34m,\u001b[0m \u001b[0mls\u001b[0m\u001b[0;34m=\u001b[0m\u001b[0;34m'none'\u001b[0m\u001b[0;34m,\u001b[0m \u001b[0mlabel\u001b[0m\u001b[0;34m=\u001b[0m\u001b[0;34m'GALEX NUV'\u001b[0m\u001b[0;34m)\u001b[0m\u001b[0;34m\u001b[0m\u001b[0;34m\u001b[0m\u001b[0m\n",
      "\u001b[0;31mNameError\u001b[0m: name 'gw1' is not defined"
     ]
    },
    {
     "data": {
      "text/plain": [
       "<Figure size 720x432 with 0 Axes>"
      ]
     },
     "metadata": {},
     "output_type": "display_data"
    }
   ],
   "source": [
    "\n",
    "plt.figure(figsize=(10, 6))\n",
    "plt.plot(gw1[(gw1 < 3240) | (gw1 > 3250)] , gf1[(gw1 < 3240) | (gw1 > 3250)], label = 'No White Dwarf')\n",
    "# plt.plot(mw1, mf1)\n",
    "plt.plot(pw, pf, label='With 8000\\,K White Dwarf')\n",
    "plt.errorbar(wnuv.value, fnuv.value, yerr=0.1*fnuv.value, marker='o', ls='none', label='GALEX NUV')\n",
    "plt.errorbar(swift_wave, swift_flux, yerr=swift_error, marker='o', ls='none', label = 'Swift UVW2')\n",
    "plt.yscale('log')\n",
    "plt.xlabel('Wavelength (\\AA)')\n",
    "plt.ylabel('Flux (erg s$^{-1}$ cm$^{-2}$ \\AA$^{-1}$)')\n",
    "plt.legend(loc=4, frameon=True)\n",
    "plt.xlim(1501, 3999)\n",
    "plt.ylim(1.1e-17, 5e-14)\n",
    "# plt.plot(bws, bps*1e-16)\n",
    "# plt.plot(bpw, bpf*1e-13, ls = '--')\n",
    "# plt.fill_betweenx([1e-19, 1e-12], bpw[0], bpw[-1], alpha =0.1, zorder=-100, color='k')\n",
    "# plt.plot(xw, xf)\n",
    "plt.tight_layout()\n",
    "# plt.savefig('plots/gj207_1_bsuma.png', dpi=150)\n",
    "# plt.savefig('plots/gj207_1_bsuma.pdf', dpi=150)"
   ]
  },
  {
   "cell_type": "markdown",
   "id": "5c98c6c4-6bdb-4cf2-9175-60983f0bf26e",
   "metadata": {},
   "source": [
    "Huh. Did it flare? Can't tell. Check integration over bandpass, then compare x-ray spectrum"
   ]
  },
  {
   "cell_type": "code",
   "execution_count": null,
   "id": "bc6daa8f-2f41-43c8-9677-4fd4a0b315f4",
   "metadata": {},
   "outputs": [],
   "source": [
    "# plt.figure(figsize=(8, 5))\n",
    "# plt.plot(gw1[(gw1 < 3240) | (gw1 > 3250)] , gf1[(gw1 < 3240) | (gw1 > 3250)], label = 'Prediction 1')\n",
    "# # plt.plot(mw1, mf1)\n",
    "# plt.plot(pw, pf, label='Prediction 2')\n",
    "# # plt.errorbar(wnuv.value, fnuv.value, yerr=0.1*fnuv.value, marker='o', ls='none', label='GALEX NUV')\n",
    "# plt.errorbar(swift_wave, swift_flux, yerr=swift_error, marker='o', ls='none', label = 'New Swift Data')\n",
    "# plt.yscale('log')\n",
    "# plt.xlabel('Wavelength (\\AA)')\n",
    "# plt.ylabel('Flux (erg s$^{-1}$ cm$^{-2}$ \\AA$^{-1}$)')\n",
    "# plt.legend(loc=1, frameon=True)\n",
    "# plt.xlim(1901, 2399)\n",
    "# plt.ylim(1.1e-17, 9e-15)\n",
    "# # plt.plot(bws, bps*1e-16)\n",
    "# # plt.plot(bpw, bpf*1e-13, ls = '--')\n",
    "# # plt.fill_betweenx([1e-19, 1e-12], bpw[0], bpw[-1], alpha =0.1, zorder=-100, color='k')\n",
    "# # plt.plot(xw, xf)\n",
    "# plt.tight_layout()\n",
    "# plt.savefig('plots/gj207_1_bsuma.png', dpi=150)\n",
    "# plt.savefig('plots/gj207_1_bsuma.pdf', dpi=150)"
   ]
  },
  {
   "cell_type": "code",
   "execution_count": null,
   "id": "b4883d73-cb78-471f-bc12-aba90af0788a",
   "metadata": {},
   "outputs": [],
   "source": [
    "# plt.errorbar(t[6:], f[6:], yerr=e[6:], marker='o', ls='none')\n",
    "# t2, f2, e2 = t[:6], f[:6], e[:6]\n",
    "# swift_flux2 = np.average(f2, weights = 1/(e2**2))\n",
    "# swift_error2 =  (1 / np.sum(1/(e2**2)))**0.5\n",
    "# print(swift_flux2, swift_error2)\n",
    "# swift_wave = 2054.61 #lambda_ref\n",
    "#2nd obs is nonsense"
   ]
  },
  {
   "cell_type": "code",
   "execution_count": null,
   "id": "23b9675c-ddbc-4fed-8b6e-39b1a550c4cc",
   "metadata": {},
   "outputs": [],
   "source": [
    "uvw2_nowd = make_phot(bpw, bpf, gw1, gf1)\n",
    "uvw2_wd = make_phot(bpw, bpf, pw, pf)\n",
    "print(uvw2_nowd, uvw2_wd)"
   ]
  },
  {
   "cell_type": "code",
   "execution_count": null,
   "id": "b7d1eddd-951d-4dea-bf41-21228a016090",
   "metadata": {},
   "outputs": [],
   "source": [
    "#xray\n",
    "gwx, gfx = gw[(gw < 100)], gf[ (gw < 100)]*gj_scale\n",
    "plt.step(gwx, gfx, where='mid')\n",
    "xwv = [1.24, 41.3] #10-0.3 keV\n",
    "x_mid = np.mean(xwv)\n",
    "x_bin = (xwv[-1]-xwv[0])/2\n",
    "xfo = 3.05773609569008e-12/(x_bin*2) #observed\n",
    "xfo_e = [2.415720139670061e-12/(x_bin*2), 4.111130662350368e-12/(x_bin*2)]\n",
    "xfu = 1.5903766838224638e-11/(x_bin*2) #unabsorbed, think this is the one I'm after\n",
    "xfu_e = [5.288823818187477e-12/(x_bin*2), 1.2486163888153144e-10/(x_bin*2)]\n",
    "\n",
    "plt.errorbar(x_mid, xfo, xerr= x_bin, yerr=([xfo_e[0]], [xfo_e[1]]))\n",
    "plt.errorbar(x_mid, xfu, xerr= x_bin, yerr=([xfu_e[0]], [xfu_e[1]]))\n",
    "plt.yscale('log')\n",
    "\n",
    "#ok let's put a pin in that for now..."
   ]
  },
  {
   "cell_type": "code",
   "execution_count": null,
   "id": "a0459552-ed40-4ba0-a251-b4f7de725474",
   "metadata": {},
   "outputs": [],
   "source": [
    "plt.figure(figsize=(10, 8))\n",
    "gs = GridSpec(4, 1)\n",
    "\n",
    "ylims = (1.1e-17, 5e-14)\n",
    "xlims = (1501, 3999)\n",
    "plt.subplot(gs[:3])\n",
    "plt.plot(gw1[(gw1 < 3240) | (gw1 > 3250)] , gf1[(gw1 < 3240) | (gw1 > 3250)], label = 'No White Dwarf')\n",
    "# plt.plot(mw1, mf1)\n",
    "plt.plot(pw, pf, label='With 8000\\,K White Dwarf')\n",
    "plt.errorbar(wnuv.value, fnuv.value, yerr=0.1*fnuv.value, marker='o', ls='none', label='GALEX NUV')\n",
    "plt.errorbar(swift_wave, swift_flux, yerr=swift_error, marker='o', ls='none', label = 'Swift UVW2')\n",
    "\n",
    "plt.plot(xw, convolve(xf, Box1DKernel(20)), ls='--')\n",
    "uphot = make_phot(ubw, ubp, xw, xf)\n",
    "uwave = 3467.05\n",
    "plt.errorbar(uwave, uphot, yerr=0.1*uphot, marker='o', ls='none')\n",
    "print(uphot)\n",
    "\n",
    "plt.yscale('log')\n",
    "\n",
    "plt.ylabel('Flux (erg s$^{-1}$ cm$^{-2}$ \\AA$^{-1}$)')\n",
    "plt.legend(loc=4, frameon=True)\n",
    "plt.xlim(xlims[0], xlims[1])\n",
    "plt.ylim(ylims[0], ylims[1])\n",
    "plt.xticks(visible=False)\n",
    "\n",
    "\n",
    "plt.subplot(gs[3:])\n",
    "# uvw2_nowd, uvw2_wd\n",
    "plt.errorbar(swift_wave, uvw2_nowd/swift_flux, yerr= (uvw2_nowd*swift_error/swift_flux**2), marker='o', c='C0')\n",
    "plt.errorbar(swift_wave, uvw2_wd/swift_flux, yerr= (uvw2_wd*swift_error/swift_flux**2), marker='o', c='C1')\n",
    "# nwd_phot = make_phot(bpw, bpf,gw1, gf1)\n",
    "# wd_phot = make_phot(bpw, bpf,pw, pf)\n",
    "plt.errorbar(wnuv.value, nwd_phot/fnuv.value, yerr= (nwd_phot*0.1*fnuv.value/fnuv.value**2), marker='o', c='C0')\n",
    "plt.errorbar(wnuv.value, wd_phot/fnuv.value, yerr= (wd_phot*0.1*fnuv.value/fnuv.value**2), marker='o', c='C1')\n",
    "\n",
    "plt.ylim(0.01, 1.1)\n",
    "plt.xlim(xlims[0], xlims[1])\n",
    "plt.xlabel('Wavelength (\\AA)')\n",
    "plt.ylabel('$F_{\\mathrm{model}}/F_{\\mathrm{observed}}$')\n",
    "plt.axhline(1, ls='--', c='0.5')\n",
    "plt.tight_layout()\n",
    "plt.subplots_adjust(hspace=0.05)\n",
    "# plt.savefig('plots/gj207_1_bsuma.png', dpi=150)\n",
    "# plt.savefig('plots/gj207_1_bsuma.pdf', dpi=150)"
   ]
  },
  {
   "cell_type": "code",
   "execution_count": null,
   "id": "4e0fc283-551d-4f88-8504-7522bc2293b4",
   "metadata": {},
   "outputs": [],
   "source": [
    "import gPhoton"
   ]
  },
  {
   "cell_type": "code",
   "execution_count": null,
   "id": "7d9df29d-d79b-4322-a414-ea75afa11e23",
   "metadata": {},
   "outputs": [],
   "source": [
    "skypos = [83.436, 1.945]\n"
   ]
  },
  {
   "cell_type": "code",
   "execution_count": null,
   "id": "2dd76e19-3ea6-4e0c-8fc4-791c4f7a9f32",
   "metadata": {},
   "outputs": [],
   "source": [
    "nuv_exps = gPhoton.gFind(band='NUV', skypos=skypos)"
   ]
  },
  {
   "cell_type": "code",
   "execution_count": null,
   "id": "59c6c89a-e7dc-4737-951c-07fbab386cbc",
   "metadata": {},
   "outputs": [],
   "source": [
    "target = 'gj207-1'\n",
    "step_size = 10.\n",
    "phot_rad = 0.0045\n",
    "ap_in = 0.0050\n",
    "ap_out = 0.0060"
   ]
  },
  {
   "cell_type": "code",
   "execution_count": null,
   "id": "422a77ff-90c9-4a5b-843e-e52ac32f5b44",
   "metadata": {},
   "outputs": [],
   "source": [
    "# nuv_photon_events = gPhoton.gAperture(band='NUV', skypos=skypos, stepsz=step_size, radius=phot_rad, annulus=[ap_in, ap_out], verbose=3, csvfile='galex/{}_nuv_{}s_lc.csv'.format(target, step_size), overwrite=True)"
   ]
  },
  {
   "cell_type": "code",
   "execution_count": null,
   "id": "02dee06a-ee19-4683-98aa-e60b96a474df",
   "metadata": {},
   "outputs": [],
   "source": [
    "nuv= Table.read('galex/{}_nuv_{}s_lc.csv'.format(target, step_size))\n",
    "\n",
    "t, f, e, q = nuv['t_mean'], nuv['flux_bgsub'], nuv['flux_bgsub_err'], nuv['flags']\n",
    "# t, f, e = t[q==0], f[q==0], e[q==0]\n",
    "#plt.errorbar(t-t[0], f, yerr=e, ls='none', marker='o')\n",
    "t0s, t1s = nuv_exps['NUV']['t0'], nuv_exps['NUV']['t1']\n",
    "for t0, t1 in zip(t0s, t1s):\n",
    "    mask = (t >=t0) & (t <=t1)\n",
    "    print(np.median(f[mask]))\n",
    "    plt.errorbar(t[mask], f[mask], yerr=e[mask], ls='none', marker='o')\n",
    "#     plt.xlim(t0-20, t0+1397.)\n",
    "    plt.show()\n",
    "   # if (t1 - t0) > 900:\n",
    "#     lc = lk.LightCurve(time=t[mask]*u.s, flux=f[mask], flux_err=e[mask])\n",
    "#     pg = lc.to_periodogram(oversample_factor= 10, minimum_period=20*u.s, maximum_period=200*u.s)\n",
    "#     plt.plot(pg.period.to(u.s), pg.power)\n",
    "#     print(pg.period_at_max_power.to(u.s))\n",
    "    plt.show()\n",
    "    "
   ]
  },
  {
   "cell_type": "code",
   "execution_count": null,
   "id": "19147cb9-4e32-4ef8-b989-8e703c0c4f5d",
   "metadata": {},
   "outputs": [],
   "source": [
    "galex_flux = np.average(f1, weights = 1/(e1**2))\n",
    "galex_error =  (1 / np.sum(1/(e1**2)))**0.5"
   ]
  },
  {
   "cell_type": "code",
   "execution_count": null,
   "id": "003b4f5b-4e51-4eb5-893b-66703c70a564",
   "metadata": {},
   "outputs": [],
   "source": []
  }
 ],
 "metadata": {
  "kernelspec": {
   "display_name": "Python 3",
   "language": "python",
   "name": "python3"
  },
  "language_info": {
   "codemirror_mode": {
    "name": "ipython",
    "version": 3
   },
   "file_extension": ".py",
   "mimetype": "text/x-python",
   "name": "python",
   "nbconvert_exporter": "python",
   "pygments_lexer": "ipython3",
   "version": "3.6.13"
  }
 },
 "nbformat": 4,
 "nbformat_minor": 5
}
