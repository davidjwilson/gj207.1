{
 "cells": [
  {
   "cell_type": "markdown",
   "id": "7becebd8-b9a0-49f9-ab76-3f620bd4f4dc",
   "metadata": {},
   "source": [
    "Another candiate is wolf1130. It has HST data, white dwarf will be an FUV target"
   ]
  },
  {
   "cell_type": "code",
   "execution_count": 1,
   "id": "7d3a2f08-9348-461e-835e-1175c81bf6c0",
   "metadata": {},
   "outputs": [],
   "source": [
    "import numpy as np\n",
    "import matplotlib.pyplot as plt\n",
    "import astropy.io.fits as fits\n",
    "import os\n",
    "import glob\n",
    "from astropy.table import Table\n",
    "from astropy.io import ascii\n",
    "import astropy.units as u\n",
    "import astropy.constants as const\n",
    "from astropy.modeling import models, fitting\n",
    "import lightkurve as lk\n",
    "from scipy.interpolate import interp1d\n",
    "\n",
    "\n",
    "#matplotlib set up\n",
    "%matplotlib inline\n",
    "from matplotlib import rcParams\n",
    "rcParams[\"figure.figsize\"] = (14, 5)\n",
    "rcParams[\"font.size\"] = 20"
   ]
  },
  {
   "cell_type": "code",
   "execution_count": 2,
   "id": "0fdca22d-b9ef-422d-b5cc-3f76e47e46e3",
   "metadata": {},
   "outputs": [],
   "source": [
    "path = '/media/david/2tb_ext_hd/hddata/carmenes_binary/wolf1130/hst/'\n"
   ]
  },
  {
   "cell_type": "markdown",
   "id": "0ee5373e-d1ed-43e6-b534-41b983858974",
   "metadata": {},
   "source": [
    "HST files were not extracted? Have to do it myself..."
   ]
  },
  {
   "cell_type": "code",
   "execution_count": null,
   "id": "66d72f1e-4cd1-4d9e-9f5e-b3442196b65a",
   "metadata": {},
   "outputs": [],
   "source": []
  }
 ],
 "metadata": {
  "kernelspec": {
   "display_name": "Python 3 (ipykernel)",
   "language": "python",
   "name": "python3"
  },
  "language_info": {
   "codemirror_mode": {
    "name": "ipython",
    "version": 3
   },
   "file_extension": ".py",
   "mimetype": "text/x-python",
   "name": "python",
   "nbconvert_exporter": "python",
   "pygments_lexer": "ipython3",
   "version": "3.10.6"
  }
 },
 "nbformat": 4,
 "nbformat_minor": 5
}
