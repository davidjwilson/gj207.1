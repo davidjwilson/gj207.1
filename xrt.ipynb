{
 "cells": [
  {
   "cell_type": "markdown",
   "id": "f8e29d44-1999-46fe-a3d3-e7641da10828",
   "metadata": {},
   "source": [
    "Learning to use xspec to fit the xrt data"
   ]
  },
  {
   "cell_type": "code",
   "execution_count": 1,
   "id": "2b17e9bf-243a-4c26-9ebf-84d10520b814",
   "metadata": {},
   "outputs": [],
   "source": [
    "import numpy as np\n",
    "import matplotlib.pyplot as plt\n",
    "import astropy.io.fits as fits\n",
    "import os\n",
    "import glob\n",
    "from astropy.table import Table\n",
    "from astropy.io import ascii\n",
    "import astropy.units as u\n",
    "import astropy.constants as const\n",
    "\n",
    "\n",
    "#matplotlib set up\n",
    "%matplotlib inline\n",
    "from matplotlib import rcParams\n",
    "rcParams[\"figure.figsize\"] = (14, 5)\n",
    "rcParams[\"font.size\"] = 20\n"
   ]
  },
  {
   "cell_type": "code",
   "execution_count": 2,
   "id": "539d67b1-7368-46ec-b97e-dbb8aa34dbd1",
   "metadata": {},
   "outputs": [],
   "source": [
    "path = '/media/david/1tb_storage1/emergency_data/carmenes_binary/swift/xrt/spectrum/'"
   ]
  },
  {
   "cell_type": "code",
   "execution_count": 3,
   "id": "c5f4d17c-61e0-4d55-85eb-1b88f30d3803",
   "metadata": {},
   "outputs": [
    {
     "name": "stderr",
     "output_type": "stream",
     "text": [
      "***Warning: You do not have an up-to-date version of Xspec.init\n",
      "      in your ~/.xspec directory.  It is recommended that you move\n",
      "      your old Xspec.init aside and start up XSPEC again.  This will\n",
      "      place a new version Xspec.init in your directory, which you may\n",
      "      then modify using your old settings.\n"
     ]
    }
   ],
   "source": [
    "import xspec"
   ]
  },
  {
   "cell_type": "code",
   "execution_count": 4,
   "id": "35f8b66c-e458-473f-9062-9994f6936832",
   "metadata": {},
   "outputs": [
    {
     "name": "stdout",
     "output_type": "stream",
     "text": [
      "New filename ( \"none\" or \"/*\" to return to the XSPEC prompt): No such file: .rsp\n",
      "New filename ( \"none\" or \"/*\" to return to the XSPEC prompt): No such file: .rsp\n",
      "New filename ( \"none\" or \"/*\" to return to the XSPEC prompt): No such file: .rsp\n",
      "\n"
     ]
    },
    {
     "name": "stderr",
     "output_type": "stream",
     "text": [
      "Error: cannot read response file interval0pc.rmf\n",
      "terminated at user request\n"
     ]
    },
    {
     "ename": "ValueError",
     "evalue": "PyCapsule_New called with null pointer",
     "output_type": "error",
     "traceback": [
      "\u001b[0;31m---------------------------------------------------------------------------\u001b[0m",
      "\u001b[0;31mValueError\u001b[0m                                Traceback (most recent call last)",
      "\u001b[0;32m/tmp/ipykernel_132938/549341425.py\u001b[0m in \u001b[0;36m<module>\u001b[0;34m\u001b[0m\n\u001b[0;32m----> 1\u001b[0;31m \u001b[0ms\u001b[0m \u001b[0;34m=\u001b[0m \u001b[0mxspec\u001b[0m\u001b[0;34m.\u001b[0m\u001b[0mSpectrum\u001b[0m\u001b[0;34m(\u001b[0m\u001b[0;34m'{}interval0pc.pi'\u001b[0m\u001b[0;34m.\u001b[0m\u001b[0mformat\u001b[0m\u001b[0;34m(\u001b[0m\u001b[0mpath\u001b[0m\u001b[0;34m)\u001b[0m\u001b[0;34m)\u001b[0m\u001b[0;34m\u001b[0m\u001b[0;34m\u001b[0m\u001b[0m\n\u001b[0m",
      "\u001b[0;32m~/heasoft-6.28/x86_64-pc-linux-gnu-libc2.31/lib/python/xspec/spectrum.py\u001b[0m in \u001b[0;36m__init__\u001b[0;34m(self, dataFile)\u001b[0m\n\u001b[1;32m    167\u001b[0m             \u001b[0mself\u001b[0m\u001b[0;34m.\u001b[0m\u001b[0m__handle\u001b[0m \u001b[0;34m=\u001b[0m \u001b[0mdataFile\u001b[0m\u001b[0;34m\u001b[0m\u001b[0;34m\u001b[0m\u001b[0m\n\u001b[1;32m    168\u001b[0m         \u001b[0;32melse\u001b[0m\u001b[0;34m:\u001b[0m\u001b[0;34m\u001b[0m\u001b[0;34m\u001b[0m\u001b[0m\n\u001b[0;32m--> 169\u001b[0;31m             \u001b[0mself\u001b[0m\u001b[0;34m.\u001b[0m\u001b[0m__handle\u001b[0m \u001b[0;34m=\u001b[0m \u001b[0m_pyXspec\u001b[0m\u001b[0;34m.\u001b[0m\u001b[0mreadSpectrum\u001b[0m\u001b[0;34m(\u001b[0m\u001b[0mdataFile\u001b[0m\u001b[0;34m)\u001b[0m\u001b[0;34m\u001b[0m\u001b[0;34m\u001b[0m\u001b[0m\n\u001b[0m\u001b[1;32m    170\u001b[0m         \u001b[0mself\u001b[0m\u001b[0;34m.\u001b[0m\u001b[0m__detArray\u001b[0m \u001b[0;34m=\u001b[0m \u001b[0m_DetArrayEmulator\u001b[0m\u001b[0;34m(\u001b[0m\u001b[0mself\u001b[0m\u001b[0;34m.\u001b[0m\u001b[0m__handle\u001b[0m\u001b[0;34m)\u001b[0m\u001b[0;34m\u001b[0m\u001b[0;34m\u001b[0m\u001b[0m\n\u001b[1;32m    171\u001b[0m         \u001b[0mspecIdx\u001b[0m \u001b[0;34m=\u001b[0m \u001b[0m_pyXspec\u001b[0m\u001b[0;34m.\u001b[0m\u001b[0mgetIndexFromHandle\u001b[0m\u001b[0;34m(\u001b[0m\u001b[0mself\u001b[0m\u001b[0;34m.\u001b[0m\u001b[0m__handle\u001b[0m\u001b[0;34m)\u001b[0m\u001b[0;34m\u001b[0m\u001b[0;34m\u001b[0m\u001b[0m\n",
      "\u001b[0;31mValueError\u001b[0m: PyCapsule_New called with null pointer"
     ]
    }
   ],
   "source": [
    "s = xspec.Spectrum('{}interval0pc.pi'.format(path))"
   ]
  },
  {
   "cell_type": "code",
   "execution_count": null,
   "id": "18bb7b6b",
   "metadata": {},
   "outputs": [],
   "source": []
  }
 ],
 "metadata": {
  "kernelspec": {
   "display_name": "Python 3 (ipykernel)",
   "language": "python",
   "name": "python3"
  },
  "language_info": {
   "codemirror_mode": {
    "name": "ipython",
    "version": 3
   },
   "file_extension": ".py",
   "mimetype": "text/x-python",
   "name": "python",
   "nbconvert_exporter": "python",
   "pygments_lexer": "ipython3",
   "version": "3.7.13"
  }
 },
 "nbformat": 4,
 "nbformat_minor": 5
}
